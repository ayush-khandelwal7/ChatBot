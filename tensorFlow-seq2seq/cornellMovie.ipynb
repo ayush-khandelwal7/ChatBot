{
 "cells": [
  {
   "cell_type": "code",
   "execution_count": 14,
   "metadata": {
    "collapsed": true
   },
   "outputs": [],
   "source": [
    "import tensorflow as tf\n",
    "import numpy as np\n",
    "\n",
    "# preprocessed data\n",
    "import data\n",
    "import data_utils"
   ]
  },
  {
   "cell_type": "code",
   "execution_count": 15,
   "metadata": {
    "collapsed": false
   },
   "outputs": [
    {
     "data": {
      "text/plain": [
       "<module 'data' from '/Users/subash/Desktop/cornellMovieConversationBot/practical_seq2seq-master/data.py'>"
      ]
     },
     "execution_count": 15,
     "metadata": {},
     "output_type": "execute_result"
    }
   ],
   "source": [
    "import importlib\n",
    "importlib.reload(data)"
   ]
  },
  {
   "cell_type": "code",
   "execution_count": 16,
   "metadata": {
    "collapsed": true
   },
   "outputs": [],
   "source": [
    "# load data from pickle and npy files\n",
    "metadata, idx_q, idx_a = data.load_data(PATH='datasets/cornell_corpus/')\n",
    "(trainX, trainY), (testX, testY), (validX, validY) = data_utils.split_dataset(idx_q, idx_a)"
   ]
  },
  {
   "cell_type": "code",
   "execution_count": 17,
   "metadata": {
    "collapsed": true
   },
   "outputs": [],
   "source": [
    "# parameters \n",
    "xseq_len = trainX.shape[-1]\n",
    "yseq_len = trainY.shape[-1]\n",
    "batch_size = 16\n",
    "xvocab_size = len(metadata['idx2w'])  \n",
    "yvocab_size = xvocab_size\n",
    "emb_dim = 1024"
   ]
  },
  {
   "cell_type": "code",
   "execution_count": 18,
   "metadata": {
    "collapsed": true
   },
   "outputs": [],
   "source": [
    "import seq2seq_wrapper"
   ]
  },
  {
   "cell_type": "code",
   "execution_count": 19,
   "metadata": {
    "collapsed": false
   },
   "outputs": [
    {
     "name": "stdout",
     "output_type": "stream",
     "text": [
      "<log> Building Graph </log>"
     ]
    }
   ],
   "source": [
    "model = seq2seq_wrapper.Seq2Seq(xseq_len=xseq_len,\n",
    "                               yseq_len=yseq_len,\n",
    "                               xvocab_size=xvocab_size,\n",
    "                               yvocab_size=yvocab_size,\n",
    "                               ckpt_path='ckpt/cornell_corpus/',\n",
    "                               emb_dim=emb_dim,\n",
    "                               num_layers=3\n",
    "                               )"
   ]
  },
  {
   "cell_type": "code",
   "execution_count": 20,
   "metadata": {
    "collapsed": true
   },
   "outputs": [],
   "source": [
    "val_batch_gen = data_utils.rand_batch_gen(validX, validY, 32)\n",
    "test_batch_gen = data_utils.rand_batch_gen(testX, testY, 256)\n",
    "train_batch_gen = data_utils.rand_batch_gen(trainX, trainY, batch_size)"
   ]
  },
  {
   "cell_type": "code",
   "execution_count": 21,
   "metadata": {
    "collapsed": false
   },
   "outputs": [],
   "source": [
    "#sess = model.train(train_batch_gen, val_batch_gen)"
   ]
  },
  {
   "cell_type": "code",
   "execution_count": 22,
   "metadata": {
    "collapsed": false
   },
   "outputs": [
    {
     "name": "stdout",
     "output_type": "stream",
     "text": [
      "(256, 25)\n"
     ]
    }
   ],
   "source": [
    "sess = model.restore_last_session()\n",
    "input_ = test_batch_gen.__next__()[0]\n",
    "output = model.predict(sess, input_)\n",
    "print(output.shape)"
   ]
  },
  {
   "cell_type": "code",
   "execution_count": 23,
   "metadata": {
    "collapsed": false
   },
   "outputs": [
    {
     "name": "stdout",
     "output_type": "stream",
     "text": [
      "q : [hey jerry how its goin good to see you been a long time]; a : [i dont know]\n",
      "q : [no no stay down marcie sit back down on that couch]; a : [i dont know]\n",
      "q : [its all right danny always said i see things with my emotions instead of my eyes]; a : [i dont know]\n",
      "q : [im not used to that kind of treatment]; a : [i dont know]\n",
      "q : [where is it]; a : [i dont know]\n",
      "q : [who the fuck are you dr joyce brothers i hate the sonofabitch]; a : [i dont know]\n",
      "q : [youre unk]; a : [i dont know]\n",
      "q : [i bet how much]; a : [i dont know]\n",
      "q : [i would say we are now officially unk]; a : [i dont know]\n",
      "q : [but the proof the doll]; a : [i dont know]\n",
      "q : [do you have your masters]; a : [i dont know]\n",
      "q : [be ready at two]; a : [i dont know]\n",
      "q : [trapped in the body of a unk unk]; a : [i dont know]\n",
      "q : [its quite unk]; a : [i dont know]\n",
      "q : [she got all right]; a : [i dont know]\n",
      "q : [well i guess shes more around your age you guys could talk about things in common like growing up in the unk]; a : [i dont know]\n",
      "q : [i shit on all o you]; a : [i dont know]\n",
      "q : [wait are you saying that i dont appreciate]; a : [i dont know]\n",
      "q : [oh god no]; a : [i dont know]\n",
      "q : [gale i know this is a bad time and all but what if we try it out again the whole relationship thing]; a : [i dont know]\n",
      "q : [lieutenant im danny walker im rafe unk best friend]; a : [i dont know]\n",
      "q : [just before she died she came to]; a : [i dont know]\n",
      "q : [come on man im telling you what you already know]; a : [i dont know]\n",
      "q : [youre not sleepy]; a : [i dont know]\n",
      "q : [you know im starting to think id rather take my chances with unk than go through any more of this shit]; a : [i dont know]\n",
      "q : [youre just saying nothing tonight is the night]; a : [i dont know]\n",
      "q : [well ill be goddamned i knew it]; a : [i dont know]\n",
      "q : [hes bringing a girl]; a : [i dont know]\n",
      "q : [what the hell are you doing here]; a : [i dont know]\n",
      "q : [okay give us a kiss]; a : [i dont know]\n",
      "q : [are you sure]; a : [i dont know]\n",
      "q : [that unk of yours got the whole matrix unk sticks out like a spider in a web]; a : [i dont know]\n",
      "q : [you cant laugh at it huh]; a : [i dont know]\n",
      "q : [there is a conspiracy unk to unk the very unk of our faith]; a : [i dont know]\n",
      "q : [oh yes i do]; a : [i dont know]\n",
      "q : [okay i have five that says this is it for them]; a : [i dont know]\n",
      "q : [i mean it give it your best shot cause im tired of you holding that over my head]; a : [i dont know]\n",
      "q : [whats your name lover]; a : [i dont know]\n",
      "q : [i dont know i was unk the three of us might partner up guns for hire that sort of thing]; a : [i dont know]\n",
      "q : [kay place your bets]; a : [i dont know]\n",
      "q : [shouldnt i be in a hospital]; a : [i dont know]\n",
      "q : [what were they saying about you in there]; a : [i dont know]\n",
      "q : [do you like baseball]; a : [i dont know]\n",
      "q : [see you dont understand]; a : [i dont know]\n",
      "q : [what can i do for you]; a : [i dont know]\n",
      "q : [man i unk his face with that right the people love whats happenin tonight]; a : [i dont know]\n",
      "q : [easy for you to say youve got the unk]; a : [i dont know]\n",
      "q : [so tell me youre okay then]; a : [i dont know]\n",
      "q : [sorry unk id it to me again]; a : [i dont know]\n",
      "q : [ive only been here five right now it feels like ten but]; a : [i dont know]\n",
      "q : [are we going to have the same quarrel over again]; a : [i dont know]\n",
      "q : [you eat like a bird]; a : [i dont know]\n",
      "q : [nothing is real until its unk]; a : [i dont know]\n",
      "q : [not a unk only just dead]; a : [i dont know]\n",
      "q : [hard to realize theyre white isnt it]; a : [i dont know]\n",
      "q : [fuck you you get the fuck out of here]; a : [i dont know]\n",
      "q : [there is time it is still dark]; a : [i dont know]\n",
      "q : [oh my unk happened to you]; a : [i dont know]\n",
      "q : [you drive like a maniac]; a : [i dont know]\n",
      "q : [its temporary]; a : [i dont know]\n",
      "q : [yeah he has to go to work in a little while i do too]; a : [i dont know]\n",
      "q : [are you ok]; a : [i dont know]\n",
      "q : [what about him]; a : [i dont know]\n",
      "q : [unk angelo unk]; a : [i dont know]\n",
      "q : [mr unk i am sorry to have kept you]; a : [i dont know]\n",
      "q : [shit where the hell are tom and unk]; a : [i dont know]\n",
      "q : [they dont go for the vault]; a : [i dont know]\n",
      "q : [im not armed]; a : [i dont know]\n",
      "q : [hey you cant]; a : [i dont know]\n",
      "q : [and white]; a : [i dont know]\n",
      "q : [miss cora unk he never set eyes on her before today]; a : [i dont know]\n",
      "q : [but i cant be dry]; a : [i dont know]\n",
      "q : [you know i dont think that]; a : [i dont know]\n",
      "q : [the next day i managed to drag myself to the safe house mustve just missed unk i checked our unk]; a : [i dont know]\n",
      "q : [how immediate is immediately]; a : [i dont know]\n",
      "q : [from basketball]; a : [i dont know]\n",
      "q : [tell me something claire that night in prague was it you or jim that blew up the car and scattered hannah all over town]; a : [i dont know]\n",
      "q : [not unk thanks]; a : [i dont know]\n",
      "q : [no theyre for my grandmother shes in a hospital nearby thought id kill two birds with one stone]; a : [i dont know]\n",
      "q : [laura unk peanut butter you like it]; a : [i dont know]\n",
      "q : [im not but do you have to point out how stupid everyone is]; a : [i dont know]\n",
      "q : [i hope you dont mind i took your pack it was on the table]; a : [i dont know]\n",
      "q : [my unk exactly]; a : [i dont know]\n",
      "q : [then quit you dont work for interpol sam]; a : [i dont know]\n",
      "q : [ill call for backup]; a : [i dont know]\n",
      "q : [i didnt mean it that way im sorry]; a : [i dont know]\n",
      "q : [hes misunderstood]; a : [i dont know]\n",
      "q : [unk unk unk unk lift that thing]; a : [i dont know]\n",
      "q : [its still available i hope]; a : [i dont know]\n",
      "q : [i dont mean to alarm you but im getting a nose bleed from the altitude]; a : [i dont know]\n",
      "q : [dont you think anyones gonna notice that unk gone]; a : [i dont know]\n",
      "q : [and now]; a : [i dont know]\n",
      "q : [there she is i got visual]; a : [i dont know]\n",
      "q : [its just medication mister mcmurphy good for you now down it goes]; a : [i dont know]\n",
      "q : [i was gonna feed em terry]; a : [i dont know]\n",
      "q : [father please dont die]; a : [i dont know]\n",
      "q : [what was that]; a : [i dont know]\n",
      "q : [thanks ill go say hello to your mom]; a : [i dont know]\n",
      "q : [making sure nobodys following us]; a : [i dont know]\n",
      "q : [are you ok]; a : [i dont know]\n",
      "q : [dad i dont know about this one]; a : [i dont know]\n",
      "q : [you nervous new town new school i know it must be pretty hard for you]; a : [i dont know]\n",
      "q : [there are others]; a : [i dont know]\n",
      "q : [next wednesday i grab a grand from unk an thursday two yards from unk okay]; a : [i dont know]\n",
      "q : [what was uthatu]; a : [i dont know]\n",
      "q : [yes]; a : [i dont know]\n",
      "q : [of course but i think youll find the print medium unk a more unk and unk]; a : [i dont know]\n",
      "q : [i love you will beyond poetry]; a : [i dont know]\n",
      "q : [im going to spend unk]; a : [i dont know]\n",
      "q : [that was a nice little stunt you pulled buzzing the base]; a : [i dont know]\n",
      "q : [if i find out the identity of this unk unk i will kill both him and the man who told me]; a : [i dont know]\n",
      "q : [is that what i did to you is that what happened did i just not see you]; a : [i dont know]\n",
      "q : [chewie and i will take care of this you stay here]; a : [i dont know]\n",
      "q : [you do a lot of real estate trading brandon]; a : [i dont know]\n",
      "q : [yeah what]; a : [i dont know]\n",
      "q : [can we see it from the back yard]; a : [i dont know]\n",
      "q : [very early dawn]; a : [i dont know]\n",
      "q : [and mr lee where is he]; a : [i dont know]\n",
      "q : [if theyre going to survive here they have to know how to work unk unk los unk unk]; a : [i dont know]\n",
      "q : [really think so]; a : [i dont know]\n",
      "q : [who me no i dont know not unk i know is]; a : [i dont know]\n",
      "q : [lesson number two never work for your former unk]; a : [i dont know]\n",
      "q : [if it is thats pretty high up on the unk pole what do you think]; a : [i dont know]\n",
      "q : [faith this is my mother]; a : [i dont know]\n",
      "q : [unk unk word]; a : [i dont know]\n",
      "q : [no i mean no big unk]; a : [i dont know]\n",
      "q : [the best but we wont need them]; a : [i dont know]\n",
      "q : [does mom know]; a : [i dont know]\n",
      "q : [it means a lot that you came by]; a : [i dont know]\n",
      "q : [dont worry its a long story but i know who he is i know where to find him]; a : [i dont know]\n",
      "q : [no i cant really see it]; a : [i dont know]\n",
      "q : [in his belly you will find a new definition of pain and suffering as you are slowly unk over a thousand years]; a : [i dont know]\n",
      "q : [good morning mr unk]; a : [i dont know]\n",
      "q : [you would have done that]; a : [i dont know]\n",
      "q : [id still go unk if i ended up in jail]; a : [i dont know]\n",
      "q : [when do you expect this unk stuff to be straightened out]; a : [i dont know]\n",
      "q : [give us your money man]; a : [i dont know]\n",
      "q : [honey its not what you think]; a : [i dont know]\n",
      "q : [i said unk stuff]; a : [i dont know]\n",
      "q : [i cant stand that unk they ought to hang him]; a : [i dont know]\n",
      "q : [richard you should be ashamed of yourself]; a : [i dont know]\n",
      "q : [my hairs kind of a mess isnt it]; a : [i dont know]\n",
      "q : [events unk unk as unk unk often result from psychic unk or unk unk unk]; a : [i dont know]\n",
      "q : [unk unk mary clarence thats when many of us took final vows its the last unk music we recall]; a : [i dont know]\n",
      "q : [sorry it couldnt be under happier circumstances]; a : [i dont know]\n",
      "q : [its too unk a woman grown now]; a : [i dont know]\n",
      "q : [because they bring out the unk of the champagne]; a : [i dont know]\n",
      "q : [i dont know mary unk what do you think theyre pretty raw]; a : [i dont know]\n",
      "q : [unk by himself]; a : [i dont know]\n",
      "q : [its unk no unk involved anybody in the unk welcome]; a : [i dont know]\n",
      "q : [whats his name]; a : [i dont know]\n",
      "q : [do you have trouble with your boobs in the uniform]; a : [i dont know]\n",
      "q : [so hows unk europe]; a : [i dont know]\n",
      "q : [because youre pushing me to be something im not]; a : [i dont know]\n",
      "q : [okay max and you can call me leo]; a : [i dont know]\n",
      "q : [hey terry what is that did peggy make it up ive never seen that on unk]; a : [i dont know]\n",
      "q : [i said i dont know you cant just come in here and start unk around]; a : [i dont know]\n",
      "q : [you got in late last night]; a : [i dont know]\n",
      "q : [then it dont work]; a : [i dont know]\n",
      "q : [what do you want]; a : [i dont know]\n",
      "q : [thats right]; a : [i dont know]\n",
      "q : [so you were a geek big deal]; a : [i dont know]\n",
      "q : [you do]; a : [i dont know]\n",
      "q : [ya sure]; a : [i dont know]\n",
      "q : [what looks good]; a : [i dont know]\n",
      "q : [are you looking for something in particular]; a : [i dont know]\n",
      "q : [hey man i was in love once i got hurt really bad i never wanna go through that again]; a : [i dont know]\n",
      "q : [gee eddie youre not gonna go are ya unk be layin for ya at nine oclock]; a : [i dont know]\n",
      "q : [i got it mr bialystock]; a : [i dont know]\n",
      "q : [and old man unk he had a motive too margo and her money]; a : [i dont know]\n",
      "q : [good morning]; a : [i dont know]\n",
      "q : [buffalo chips fella in santa unk told me he sells these as fast as the buffalo can squeeze em out]; a : [i dont know]\n",
      "q : [maybe you should see a shrink]; a : [i dont know]\n",
      "q : [is there any more to it]; a : [i dont know]\n",
      "q : [so a reasonable return should be in the unk of one hundred and twenty for twentyfive grand invested thats going on previous experiences]; a : [i dont know]\n",
      "q : [all that i have and more please]; a : [i dont know]\n",
      "q : [unk has four more names he knows two both dark hair unk a woman unk a unk parking permit]; a : [i dont know]\n",
      "q : [ahh why dont i come in first thing in the morning and you can check out that left unk for me]; a : [i dont know]\n",
      "q : [thats my hard unk man enough to tell you about unk not be sorry]; a : [i dont know]\n",
      "q : [come on back to bed]; a : [i dont know]\n",
      "q : [he taught all this to swann]; a : [i dont know]\n",
      "q : [and i bet you say that to all the girls]; a : [i dont know]\n",
      "q : [yes i have seen that and i told you why i hid them]; a : [i dont know]\n",
      "q : [its a perfect kaufman audience]; a : [i dont know]\n",
      "q : [want me to take over]; a : [i dont know]\n",
      "q : [outta my house i want ya]; a : [i dont know]\n",
      "q : [nothings changed then again something has changed hasnt it]; a : [i dont know]\n",
      "q : [no see he always ordered a bottle of unk unk when he was ready to go then hed pay up and be out the door]; a : [i dont know]\n",
      "q : [you a cop or something]; a : [i dont know]\n",
      "q : [i dont care about the money i just want the show to deliver]; a : [i dont know]\n",
      "q : [you like unk]; a : [i dont know]\n",
      "q : [sure he is unk probably unk too]; a : [i dont know]\n",
      "q : [we cant get everything at once right now weve got more important demands]; a : [i dont know]\n",
      "q : [it can happen so sudden cant it being left out on your own]; a : [i dont know]\n",
      "q : [good morning jennifer]; a : [i dont know]\n",
      "q : [would you go see her with me i kind of thought i might take her some flowers like that woman done you]; a : [i dont know]\n",
      "q : [this is like a movie or something i mean am i paranoid or what]; a : [i dont know]\n",
      "q : [what do you want me to do about it]; a : [i dont know]\n",
      "q : [when you get up in the morning how do you decide what unk of black to wear]; a : [i dont know]\n",
      "q : [i said my unk uareu american theyre unk]; a : [i dont know]\n",
      "q : [we are just not used to handsome knights but you are wounded]; a : [i dont know]\n",
      "q : [unk quite literally in blood]; a : [i dont know]\n",
      "q : [is it okay if i drink this]; a : [i dont know]\n",
      "q : [lets hope she doesnt expect me to swim unk]; a : [i dont know]\n",
      "q : [well i guess you caught me at a weak moment]; a : [i dont know]\n",
      "q : [unk se unk whats your name]; a : [i dont know]\n",
      "q : [im ready]; a : [i dont know]\n",
      "q : [i dont think ive ever seen you before]; a : [i dont know]\n",
      "q : [it would only be maybe six months or three or four it would mean so much to him]; a : [i dont know]\n",
      "q : [you forget what i went through to give ya the best]; a : [i dont know]\n",
      "q : [you want me to stay here tonight is that the idea]; a : [i dont know]\n",
      "q : [even when you were young]; a : [i dont know]\n",
      "q : [everybody loved joey from the little kids to the old unk did you know him very well]; a : [i dont know]\n",
      "q : [no i havent and you forgot about the fortune teller]; a : [i dont know]\n",
      "q : [yes sir i sure am gonna enjoy my stay here]; a : [i dont know]\n",
      "q : [it was ethan found you unk in a unk unk after your folks was unk]; a : [i dont know]\n",
      "q : [so thats all you do]; a : [i dont know]\n",
      "q : [now you must really shut the fuck up please shut the fuck up]; a : [i dont know]\n",
      "q : [so i ask you when youre going to tell everyone and you say]; a : [i dont know]\n",
      "q : [well just what the hell do you expect me to do]; a : [i dont know]\n",
      "q : [good king of cats nothing but one of your nine lives]; a : [i dont know]\n",
      "q : [if youre trying to show me lay unk loyalty forget it]; a : [i dont know]\n",
      "q : [to fall back on you know a unk insurance]; a : [i dont know]\n",
      "q : [what kind of cancer]; a : [i dont know]\n",
      "q : [i know]; a : [i dont know]\n",
      "q : [unk word been good on the unk a long time before you got here]; a : [i dont know]\n",
      "q : [ive got my unk but still nothing you say can ever make me take my eyes off one person]; a : [i dont know]\n",
      "q : [lets go cmon get up]; a : [i dont know]\n",
      "q : [can i help you with something]; a : [i dont know]\n",
      "q : [yeah all right dont tell me ill go along with it its just unk to me i cant figure it out]; a : [i dont know]\n",
      "q : [i told you i would always come for you why didnt you wait for me]; a : [i dont know]\n",
      "q : [unk sex with a prostitute]; a : [i dont know]\n",
      "q : [you are right but before i can get him back here you will have to help me]; a : [i dont know]\n",
      "q : [its okay to break girl you unk if you have to]; a : [i dont know]\n",
      "q : [shes gettin away]; a : [i dont know]\n",
      "q : [yes yes yes i know all that]; a : [i dont know]\n",
      "q : [you had the mummy cancel all the others scheduled for this session]; a : [i dont know]\n",
      "q : [nobody you are writing it for me i gave you three pounds a month since]; a : [i dont know]\n",
      "q : [you want some free medical advice shut your goddam mouth about that night]; a : [i dont know]\n",
      "q : [got the number of the motel out on the old highway bates i think]; a : [i dont know]\n",
      "q : [so thats what we almost died for]; a : [i dont know]\n",
      "q : [can i help you]; a : [i dont know]\n",
      "q : [well it looks like well be getting our new school]; a : [i dont know]\n",
      "q : [i figured id ask you]; a : [i dont know]\n",
      "q : [what is so urgent]; a : [i dont know]\n",
      "q : [why not]; a : [i dont know]\n",
      "q : [him too]; a : [i dont know]\n",
      "q : [i seen the light i figure somebody was home]; a : [i dont know]\n",
      "q : [and call my family id like them to come over for dinner tonight]; a : [i dont know]\n",
      "q : [this girl and the father got their hooks in him so deep he doesnt know which end is up anymore]; a : [i dont know]\n",
      "q : [right best cowboy that ever punched deck the old man taught me most of what i know]; a : [i dont know]\n",
      "q : [im stuck does it get easier]; a : [i dont know]\n",
      "q : [hey girls]; a : [i dont know]\n",
      "q : [all i want to know is the where and the when spare me unk moves progress reports and bullshit]; a : [i dont know]\n",
      "q : [how ya doing is she around]; a : [i dont know]\n",
      "q : [you saved a lot of lives you should be very proud]; a : [i dont know]\n"
     ]
    }
   ],
   "source": [
    "replies = []\n",
    "for ii, oi in zip(input_.T, output):\n",
    "    q = data_utils.decode(sequence=ii, lookup=metadata['idx2w'], separator=' ')\n",
    "    decoded = data_utils.decode(sequence=oi, lookup=metadata['idx2w'], separator=' ').split(' ')\n",
    "    if decoded.count('unk') == 0:\n",
    "        #if decoded not in replies:\n",
    "        print('q : [{0}]; a : [{1}]'.format(q, ' '.join(decoded)))\n",
    "        replies.append(decoded)"
   ]
  },
  {
   "cell_type": "code",
   "execution_count": null,
   "metadata": {
    "collapsed": true
   },
   "outputs": [],
   "source": []
  }
 ],
 "metadata": {
  "kernelspec": {
   "display_name": "Python 3",
   "language": "python",
   "name": "python3"
  },
  "language_info": {
   "codemirror_mode": {
    "name": "ipython",
    "version": 3
   },
   "file_extension": ".py",
   "mimetype": "text/x-python",
   "name": "python",
   "nbconvert_exporter": "python",
   "pygments_lexer": "ipython3",
   "version": "3.6.0"
  }
 },
 "nbformat": 4,
 "nbformat_minor": 2
}
