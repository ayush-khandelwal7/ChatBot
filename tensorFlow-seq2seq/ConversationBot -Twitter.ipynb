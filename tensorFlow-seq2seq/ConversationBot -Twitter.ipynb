{
 "cells": [
  {
   "cell_type": "code",
   "execution_count": 13,
   "metadata": {
    "collapsed": false
   },
   "outputs": [],
   "source": [
    "import tensorflow as tf\n",
    "import numpy as np\n",
    "\n",
    "# preprocessed data\n",
    "#from datasets.twitter import data\n",
    "import data\n",
    "import data_utils\n",
    "#from handleQuery import *"
   ]
  },
  {
   "cell_type": "code",
   "execution_count": 14,
   "metadata": {
    "collapsed": false
   },
   "outputs": [],
   "source": [
    "# load data from pickle and npy files\n",
    "metadata, idx_q, idx_a = data.load_data(PATH='datasets/twitter/')\n",
    "(trainX, trainY), (testX, testY), (validX, validY) = data_utils.split_dataset(idx_q, idx_a)"
   ]
  },
  {
   "cell_type": "code",
   "execution_count": 15,
   "metadata": {
    "collapsed": false
   },
   "outputs": [],
   "source": [
    "# parameters \n",
    "xseq_len = trainX.shape[-1]\n",
    "yseq_len = trainY.shape[-1]\n",
    "batch_size = 16\n",
    "xvocab_size = len(metadata['idx2w'])  \n",
    "yvocab_size = xvocab_size\n",
    "emb_dim = 1024"
   ]
  },
  {
   "cell_type": "code",
   "execution_count": 16,
   "metadata": {
    "collapsed": true
   },
   "outputs": [],
   "source": [
    "import seq2seq_wrapper"
   ]
  },
  {
   "cell_type": "code",
   "execution_count": 17,
   "metadata": {
    "collapsed": false
   },
   "outputs": [
    {
     "data": {
      "text/plain": [
       "<module 'seq2seq_wrapper' from '/Users/subash/Desktop/cornellMovieConversationBot/tensorFlow-seq2seq/seq2seq_wrapper.py'>"
      ]
     },
     "execution_count": 17,
     "metadata": {},
     "output_type": "execute_result"
    }
   ],
   "source": [
    "import importlib\n",
    "importlib.reload(seq2seq_wrapper)"
   ]
  },
  {
   "cell_type": "code",
   "execution_count": 18,
   "metadata": {
    "collapsed": false
   },
   "outputs": [
    {
     "name": "stdout",
     "output_type": "stream",
     "text": [
      "<log> Building Graph </log>"
     ]
    }
   ],
   "source": [
    "model = seq2seq_wrapper.Seq2Seq(xseq_len=xseq_len,\n",
    "                               yseq_len=yseq_len,\n",
    "                               xvocab_size=xvocab_size,\n",
    "                               yvocab_size=yvocab_size,\n",
    "                               ckpt_path='ckpt/twitter/',\n",
    "                               emb_dim=emb_dim,\n",
    "                               num_layers=3\n",
    "                               )"
   ]
  },
  {
   "cell_type": "code",
   "execution_count": 19,
   "metadata": {
    "collapsed": false
   },
   "outputs": [],
   "source": [
    "val_batch_gen = data_utils.rand_batch_gen(validX, validY, 256)\n",
    "test_batch_gen = data_utils.rand_batch_gen(testX, testY, 256)\n",
    "\n",
    "train_batch_gen = data_utils.rand_batch_gen(trainX, trainY, batch_size)"
   ]
  },
  {
   "cell_type": "code",
   "execution_count": 20,
   "metadata": {
    "collapsed": false
   },
   "outputs": [],
   "source": [
    "#sess = model.train(train_batch_gen, val_batch_gen)"
   ]
  },
  {
   "cell_type": "code",
   "execution_count": 21,
   "metadata": {
    "collapsed": false
   },
   "outputs": [],
   "source": [
    "sess = model.restore_last_session()"
   ]
  },
  {
   "cell_type": "code",
   "execution_count": 22,
   "metadata": {
    "collapsed": false
   },
   "outputs": [
    {
     "name": "stdout",
     "output_type": "stream",
     "text": [
      "(20, 256)\n",
      "[   1  199  112   41  125    1  234  103   41 2423 4502    2   28    4  424\n",
      "  122    1   67   28  314   77    4  801 7859   88    2   28   87    4 3324\n",
      "  342  832    4 3680  136 1010 1264    7 4898  456    7  197  174    3   75\n",
      "  135   27  122   49   56  239    4  686    4    4    4   23    5   26  378\n",
      "  224 2121    5  726  122  215  248  226  118 1599   23  131  196 1324   36\n",
      "    5  128   17  533  305  152    4  103    4 1073    2  186  561   63   56\n",
      "   93   15 4214   50    4 1758  418   16   31   57   32    7  199    9    1\n",
      "  949    4 1281   21    7    5   17    5   39  503   50  229   16   28   13\n",
      "   42   35  381    5   14  229   32    4    1  148   27  130    1  160 1516\n",
      "    5  192    4   60 2591 3121    7  222  236    5    1   88  166   17    1\n",
      " 1358   27    7   54  241    5    4 1758   65    1 2327   57   84 1275  160\n",
      "   15    1 3452    5   75   65   56   27 1457    4    8   17  189  254  581\n",
      "   20   15    2   15   15   39  430    8   37  523    1  343  143    1  211\n",
      "   31    5    4   64   94  205    4    1    4  350   30 1768    4  709   21\n",
      "  770   87   79    2    4   49   61 1324 7808  355 6494    7  841    4  173\n",
      "   35   34  742    4   34  104   15   27 2892   81  248    1  105   15   30\n",
      "  964   17 7894  536  103    4   13   21    1  262   42  452    4   27   39\n",
      "   32]\n",
      "(256, 20)\n"
     ]
    }
   ],
   "source": [
    "input_ = test_batch_gen.__next__()[0]\n",
    "print (input_.shape)\n",
    "print (input_[0])\n",
    "\n",
    "output = model.predict(sess, input_)\n",
    "print(output.shape)"
   ]
  },
  {
   "cell_type": "code",
   "execution_count": 23,
   "metadata": {
    "collapsed": false
   },
   "outputs": [
    {
     "name": "stdout",
     "output_type": "stream",
     "text": [
      "q : [unk want to have sex  lets have a chat ]; a : [i know right]\n",
      "q : [whats up with raised fist but represents racist franchise]; a : [did she even know that]\n",
      "q : [yes but unfortunately in our unk and unk we killed them off]; a : [because they are the same way to me]\n",
      "q : [if theres one thing i miss most about being a new member its getting a rose during unk unk ]; a : [haha i just dont know what to do that i have a lot of them]\n",
      "q : [didnt you jump in halfway down the twitter thread pot meet unk]; a : [dont you know]\n",
      "q : [unk of american adults dont own any guns]; a : [not the problem of the constitution]\n",
      "q : [shes a cheap unk from unk cuba cheap porn star her childs father is a drug lord]; a : [what is the best thing ive ever seen it before i was in the middle years]\n",
      "q : [thank you unk]; a : [youre welcome ]\n",
      "q : [if we know that dying our food can cause cancer why are we still putting unk in things stop it]; a : [ dont be a bully without a liar]\n",
      "q : [brad pitt unk fully with unk investigation including drug test request]; a : [this is a joke]\n",
      "q : [communication and project management 101 i heard u are starting something new is it a job running sf]; a : [the whole thing is the worst part of the world]\n",
      "q : [the magnificent seven]; a : [ see this is a real place]\n",
      "q : [its just the gop that says shes corrupt yet they never see]; a : [you are a moron]\n",
      "q : [i like the fact that youre growing up man the turn up life was only killing you slowly]; a : [oh my god that is a joke]\n",
      "q : [stay tuned because its almost time for unk]; a : [lol i need to get a new phone]\n",
      "q : [oh hey insights from on amp at unk on cant wait]; a : [let me know if you get a new phone]\n",
      "q : [unk discount tho]; a : [you know i was just thinking about this]\n",
      "q : [who is coming to  hit me up and lets meet up ill be at the booth all weekend ]; a : [cant wait to see you tonight ]\n",
      "q : [its not ipad unk as you mentioned]; a : [im not sure i dont want to know how to do it]\n",
      "q : [wish i had more weed and someone to hang out with today]; a : [im going to get a ticket with the new phone]\n",
      "q : [her biggest fans aint even here rn]; a : [i dont know what you want]\n",
      "q : [i love the short on you]; a : [yes thanks for the heads up]\n",
      "q : [listening to the entire podcast in tears rn]; a : [i think its a good idea]\n",
      "q : [rogue cop he did it to scare me it worked]; a : [yup he is]\n",
      "q : [really craving all of garden ]; a : [i know right to the same way]\n",
      "q : [the unk makes some good points but lets hear the unk thoughts]; a : [i think it was a lot of people in the world of the first time i have seen]\n",
      "q : [its hard to get my attention]; a : [i dont know what to do]\n",
      "q : [i started making this face after watching the unk too much]; a : [it was like a lot of times]\n",
      "q : [icon switch time]; a : [its a good time to get a wall for the first time]\n",
      "q : [gotta say pay on the web is a game unk]; a : [check out the new video]\n",
      "q : [correct  weve got which is unk and unk used with ]; a : [but if they are a moron]\n",
      "q : [i am pretty happy with this unk 18 years]; a : [i love this show]\n",
      "q : [commentary even in bad times americans avoid angry candidates]; a : [because she doesnt care about the truth and she has no idea what she was doing it]\n",
      "q : [any hashtags i should follow looking to unk what we are doing]; a : [yes we are not in the same side of the world]\n",
      "q : [light it up the limited edition unk and prime available in store from september unk only]; a : [the whole thing is the first thing]\n",
      "q : [everyday i have been praying for him i need to draw closer to him like b4 i unk]; a : [the only one is so bad]\n",
      "q : [linkedin still cant consistently remember when ive accepted or ignored an invitation]; a : [you know i dont want to get a pic of my life ]\n",
      "q : [cute unk i can unk for art projects ]; a : [i was thinking that]\n",
      "q : [you too hugs tight]; a : [good morning all]\n",
      "q : [maybe an east coast opportunity]; a : [thanks for the heads up]\n",
      "q : [lmao bro youre an am on every other cod hmu then dick riding bean]; a : [ah yes i have to be a fan of you]\n",
      "q : [to be fair he is in an impossible position but none of this makes sense]; a : [nope he has been a pathological liar of the debate]\n",
      "q : [she still waiting]; a : [i dont even know what to say]\n",
      "q : [off to blow out a unk my favorite bday unk and give thanks for all your beautiful birthday wishes]; a : [love you bro ]\n",
      "q : [im gonna check out the podcast before the end of the week always enjoy listening to joe amp glenn]; a : [it was a lot of fun and i love it]\n",
      "q : [oh lmao i was just looking through her favs and i was oh thats random hahaha but anyways congrats ]; a : [lol i was just about that was that i was thinking about it lol]\n",
      "q : [can you find it]; a : [i dont think it was a good idea]\n",
      "q : [lol could be]; a : [ i know]\n",
      "q : [anyone i know do wordpress site design im looking for a unk quote maybe ]; a : [we can help you in design and development of your website at reasonable price visit our portfolio]\n",
      "q : [i remember a time years ago when i respected  is overprepared the patriarchy translation for capable]; a : [i dont think you dont want to know that i dont want to be a fan]\n",
      "q : [order soon i did it from the app]; a : [yessss we need to get it out]\n",
      "q : [i literally would be nothing without my mom]; a : [you should be so much]\n",
      "q : [i dont know how the photographer managed this but it is perfect]; a : [it was a joke]\n",
      "q : [i was going to make a remark but decided against it  i apologize sorry]; a : [did you have to say that before you have a chance to be a good person]\n",
      "q : [have u looked at a history book literally all war and chaos had been created by the white christian man]; a : [are you going to the case that is a good idea]\n",
      "q : [ on trump saying not paying taxes makes him smart]; a : [no he didnt care about the debate]\n",
      "q : [but credit to you for beating me to the punch if thats what u want ]; a : [lol you dont know what to do]\n",
      "q : [working hard or hardly working]; a : [but if they dont have a chance to be a good person]\n",
      "q : [dudes right about laguardia tho]; a : [what a fuck]\n",
      "q : [ just a new phone bro thats all lol]; a : [like you dont get a tattoo to get a pic of the game lol]\n",
      "q : [kid won all his unk in like 6 team unk lol sad]; a : [he was a joke but he was a good job]\n",
      "q : [oh i forgot i bought my ref shirt i wonder where it is]; a : [you dont know that you can get a pic of me]\n",
      "q : [read my joint statement with on ]; a : [wow this is awesome]\n",
      "q : [hey i was just talking about unk unk with the other day]; a : [and i have to be a good one of the debate]\n",
      "q : [theres a new rapper named 22 savage ]; a : [the whole one is a joke]\n",
      "q : [hes probably my second favorite character atm after roy]; a : [is that the guy]\n",
      "q : [hows he clever whats he filing your taxes for you]; a : [his name was a joke]\n",
      "q : [have you read my latest blog post the tennis one]; a : [you know what you think about it]\n",
      "q : [yeah but its getting harder and harder to break out of the system]; a : [thats like the same thing]\n",
      "q : [live on  unk]; a : [is that a joke]\n",
      "q : [yay for taking accountability sometimes]; a : [just like the same thing]\n",
      "q : [all i see is a bunch of unk who blew the 2nd half of this season]; a : [dont worry about it]\n",
      "q : [ fans are you ready ]; a : [i wish i was there ]\n",
      "q : [first time playing 2k17 on ps4 i unk w the ]; a : [good to see you]\n",
      "q : [my piece with  on and for  an unk but a unk]; a : [this is awesome]\n",
      "q : [yo bring the white we gonna be in the studio all night send beats send unk]; a : [check these beats]\n",
      "q : [obama is prez fake birth certificate loses debate defective mic loses election wonder what hell say]; a : [i dont think he was a pathological liar]\n",
      "q : [after 6 yeah]; a : [you can get a good time]\n",
      "q : [thank you four new polls with the movement winning together we will make america safe amp great again]; a : [hillary is a disgrace to the trump foundation in charlotte north carolina 400000 each to vote for]\n",
      "q : [i only have 5 unk days in my calendar for october why is this a thing]; a : [you should be a little bit that i dont even know]\n",
      "q : [simple suggestions for what to do with your money]; a : [injuries for the floor]\n",
      "q : [the goat recommended you be followed ]; a : [yes this is the first time i have to get a new phone]\n",
      "q : [someone stole my new iphone 7 apparently from my unk or something wtf]; a : [sounds like the same thing]\n",
      "q : [whos buying me a meet and greet ticket for ]; a : [update when you want to get a shit]\n",
      "q : [love all my supporters]; a : [we have to be a fan of the same side]\n",
      "q : [lol try again]; a : [did you know that cares about]\n",
      "q : [been about ya and im still about ya]; a : [i know i was just thinking about it ]\n",
      "q : [this unk made in new york city]; a : [and then get a few years ago]\n",
      "q : [preparing our candidate unk for city council race in district 3 what should we ask]; a : [the only party is the only thing that is not the worst of the country]\n",
      "q : [how many souls do you touch a day]; a : [is a little bit]\n",
      "q : [i need beats send fire shit to unk]; a : [hey hyd check these beats]\n",
      "q : [ryan texted me exactly when you tweeted me shit you not]; a : [lmao dont be a little bitch ]\n",
      "q : [together with i just published my first hopefully useful react unk  proud of me ]; a : [gonna be there for a while  ]\n",
      "q : [on said he won a postdebate poll we did not unk a postdebate poll]; a : [just heard that before he was a pathological liar]\n",
      "q : [at least its not a giants jersey]; a : [its a good thing but i dont even know how to do it]\n",
      "q : [when its supposed to be fall but its still 90 degrees out]; a : [the whole season is like a few weeks]\n",
      "q : [what rt  unk and don know whats up]; a : [the fuck is like that i was thinking of the last one]\n",
      "q : [you might need to wait a bit unk well check to see if your application has been received]; a : [it was a good idea but i am not sure if you are in the same side]\n",
      "q : [whats in that jar ill never tell]; a : [not sure if you dont know what to do]\n",
      "q : [and slam my head numerous times against a brick wall]; a : [the only one is like that]\n",
      "q : [unk me i want it ]; a : [lol i dont even know what to do ]\n",
      "q : [october is coming up which means i get to whip out my spooky socks again]; a : [cant wait to see you there]\n",
      "q : [i understand unk i know youre against trump but this is all new to me]; a : [i agree with you]\n",
      "q : [ima pop the empty bottle on her head]; a : [lol yes im not messing on the street]\n",
      "q : [so you are into islamic child marriages knew it]; a : [what a surprise]\n",
      "q : [you know me how have you base your opinions of les unk mafia of evil followers]; a : [people are not talking about the same people and the other people who are not a racist]\n",
      "q : [ worlds first baby born with unk unk]; a : [good to see you all ]\n",
      "q : [my team of deplorables will be managing my twitter account for this unk debate tune in]; a : [good to the best of us]\n",
      "q : [ that looks like its on 10]; a : [i know i know ]\n",
      "q : [do you ever see him anymore ]; a : [i dont know what i was talking about it]\n",
      "q : [congrats all you unk most tweeted debate ever]; a : [i love you]\n",
      "q : [how can anyone take the unk seriously unk ignorant regarding clinton hes a joke]; a : [you know what the hell is trump]\n",
      "q : [lets count our blessings folks our political debates are not this bad yet]; a : [yes there is the first time to get the right version of the game]\n",
      "q : [its the saints]; a : [thanks for the retweet]\n",
      "q : [it feels good to be a clinton ]; a : [you are a beautiful woman]\n",
      "q : [no  it didnt is very much a country of unbelievable dreams of reaching to the unk of unk]; a : [they are not addressing the law of the country]\n",
      "q : [he unk him with the laptop]; a : [seems to be a fan of the game of the game]\n",
      "q : [either or i work my ass off to support my family and pay my taxes no food unk]; a : [its not a joke but its a good thing]\n",
      "q : [ sending good luck your way]; a : [thanks for the ]\n",
      "q : [that was a sweet show ]; a : [you know how to hear it]\n",
      "q : [lets remove it then and say that you will definitely get one ]; a : [ we have to be a good one of the debate]\n",
      "q : [what did you think of the unk last night]; a : [seems like a few years ago]\n",
      "q : [i dont buy many unk but i had to own this  havent opened it yet though ]; a : [lol i thought he was a good game of the game]\n",
      "q : [unk say young unk better than him lmao]; a : [he is a lot of shit and i didnt even know how to do]\n",
      "q : [same i rarely forget my phone but being able to write longer messages would be really helpful]; a : [you can go on the game]\n",
      "q : [im just afraid of getting shot thats literally the problem]; a : [dont worry about that one of the time i dont know what to do]\n",
      "q : [where is the unk]; a : [its a joke]\n",
      "q : [unk from my qampa with on and insurance great questions]; a : [great news  ]\n",
      "q : [show isnt on no more]; a : [i was so confused]\n",
      "q : [according to a very unk client this is what i did to his devices today]; a : [i think i was there on the same side of the day]\n",
      "q : [ everyone on twitter]; a : [ this is a great thing]\n",
      "q : [which kanye show are you going to]; a : [just been a good time to get a good time]\n",
      "q : [i missed the debate because of a unk but the catching up has been unk]; a : [i am there in the same side of the day]\n",
      "q : [thats not so nice]; a : [it was so good]\n",
      "q : [lmaoooo bro this has been nyc unk for a minute now though heard the unk]; a : [lol i just got it but i was just on the game]\n",
      "q : [awe dont go away mad cuck boi just go away]; a : [dont worry what you think about the truth and then get a gun of the country]\n",
      "q : [you owe me quite a pretty penny]; a : [he was a joke]\n",
      "q : [another problem that would be solved with a wall nyt addicted parents get their fix even with children watching]; a : [what about the fuck]\n",
      "q : [sorry that i had to miss the unk]; a : [i miss this show]\n",
      "q : [ people have the right to express the way they choose to sit]; a : [dont know the media is not a crime for humanity and the police officer are not a racist]\n",
      "q : [unk  ]; a : [i need to be a fan of the day]\n",
      "q : [really happy to see in action today]; a : [so glad you enjoyed it]\n",
      "q : [please and thank you]; a : [no problem i was just thinking about it]\n",
      "q : [my life is private]; a : [i love you guys ]\n",
      "q : [unk fast day i do 2 a month unk in and feeling great ]; a : [you are so excited]\n",
      "q : [including the az republic]; a : [is that a new one]\n",
      "q : [im sorry i could not resist  it really is my fault]; a : [lol i just got it but i was just thinking about it lol]\n",
      "q : [you right apologies for the unk]; a : [no i dont know what to do]\n",
      "q : [good luck everyone]; a : [happy birthday bro]\n",
      "q : [ok great sorry for the trouble]; a : [it was great to see it]\n",
      "q : [ we see you have been lost in the sauce where were you when we announced  ]; a : [we were in the same place for the first time]\n",
      "q : [i actually dont get those tickets because theyre at unk and not oracle]; a : [im not sure if you were talking about the same side of the day]\n",
      "q : [ryan wasnt good at all unk was way better what even]; a : [he was a joke but he was a little bit qb that was a joke]\n",
      "q : [more than 70 million americans arent registered to vote we have to do better get registered amp spread the word]; a : [you need to be a real person to get a debate and get a wall]\n",
      "q : [unk]; a : [i dont know what to say]\n",
      "q : [download not buy ]; a : [ you are not a fan of the world]\n",
      "q : [when your favorite unk unk a new video on your birthday ]; a : [omg i love it so much]\n",
      "q : [were here for you whenever youre ready]; a : [wish i was there]\n",
      "q : [excuse me wanna run that by me again saw you version of sticking with carson unk lol]; a : [i dont think that was a lot of people who have a good idea]\n",
      "q : [show me them]; a : [its so good]\n",
      "q : [this exists at my unk unk ]; a : [ this is a good thing]\n",
      "q : [unk dead woulda killed those smh pressure n unk my life woulda been sick if he was on em]; a : [when they got know i was gonna be a fan of the game]\n",
      "q : [28 on the unk at the stroke of midnight]; a : [ i have to watch this]\n",
      "q : [ when tf did that start happening]; a : [was the first one]\n",
      "q : [she be on it ]; a : [she is so cute]\n",
      "q : [more vr unk with by with on the]; a : [brand new tune star]\n",
      "q : [lol me this morning]; a : [dont know what the fuck]\n",
      "q : [im in the pit again waiting for justin]; a : [its so fucking good]\n",
      "q : [florida georgia line this weekend]; a : [just gonna be a good game]\n",
      "q : [i would trade my left arm to be able to sing]; a : [it was like to be a good time to be in the city]\n",
      "q : [is currently experiencing departure delays between 15 mins and 29 mins due to tm unk]; a : [departure delays are no longer in effect for]\n",
      "q : [my sister brought me a bagel amp pizza  but no unk rough start america rough start]; a : [why did you get this]\n",
      "q : [tonight proved she is ready to be president  and donald trump proved he is not]; a : [is a joke]\n",
      "q : [wow doesnt unk words]; a : [not a joke]\n",
      "q : [not sure she tweeted it]; a : [i think i was just wondering what to do with this]\n",
      "q : [this unk girl]; a : [not a fact]\n",
      "q : [the state of new jersey should make guns legal we been getting to many threats]; a : [the only party is a liar for trump]\n",
      "q : [this is spot on]; a : [not that true]\n",
      "q : [this is too freakin unk typical for words unk with laughter works though ]; a : [this is a hoax]\n",
      "q : [do it pink bitch]; a : [dont know that]\n",
      "q : [kids asking to get crying unk again]; a : [i dont know what to do that]\n",
      "q : [is silicon valley still a city]; a : [not a good time]\n",
      "q : [they literally said nothing ill wait tell the unk goes away though]; a : [lol i know i know ]\n",
      "q : [eat my butt fam]; a : [cant wait to see you]\n",
      "q : [unk youre simply insane with these at this point]; a : [also the best of the world is the best thing ive ever seen]\n",
      "q : [happy bday man have a good ass one oh and we gotta race lol]; a : [thanks bro  i miss you]\n",
      "q : [unk rewards are way better then unk rewards dont  me]; a : [i need to get a new one of my life ]\n",
      "q : [nice and unk i did]; a : [ i love you guys are so cute in the world area]\n",
      "q : [at the gym and ship to wreck just came on]; a : [is this a new yorker]\n",
      "q : [ maybe in a month]; a : [i dont think its a good idea]\n",
      "q : [i had enough fun last night for 3 months im cool see you in 2017]; a : [hey where are you there]\n",
      "q : [there will be a chance thats what lin has taught us believe in ur kid like u believe in lin]; a : [i agree but its not a crime for a while]\n",
      "q : [should i get an elite or another unk unk]; a : [if you have a chance to be a muslim]\n",
      "q : [big banks like not a supporter of small business fees r unk]; a : [are you saying that]\n",
      "q : [i have never seen a good unk video and i probably never will]; a : [my favorite friend are so good]\n",
      "q : [unk homer for kim amp their goes another jays lead os up 32]; a : [i think they are the worst of the debate]\n",
      "q : [i received my passport  im ready to vote for my country for you for my daughter for women workers]; a : [good luck ]\n",
      "q : [dude thats a serious step up for me i usually get 12 or 14]; a : [you dont even know what to do that]\n",
      "q : [your fave is problematic edition says she hates taylor swift but constantly tweets taylor lyrics  ]; a : [she is so cute and she didnt get a pic of her ]\n",
      "q : [highly appreciated brother]; a : [thanks bro ]\n",
      "q : [ugh i would if i could get time off]; a : [same here ]\n",
      "q : [so many times people tell me to just stick to what im good at unk costumes]; a : [i dont even know how to get this one]\n",
      "q : [yep thats the real hillary no soul i think people are finally seeing who she really is]; a : [you right i dont know what the hell is that]\n",
      "q : [thanks so much for sharing ]; a : [i am very welcome to you]\n",
      "q : [cant wait for this food to come hungry af]; a : [i feel like this is a joke]\n",
      "q : [the unk is cool and definitely could be life saving but why arent any of these people wearing unk]; a : [i wish this is a good time]\n",
      "q : [i could a unk for  that guy is everywhere]; a : [that is a joke]\n",
      "q : [can i please please have children that look like unk unk christ ]; a : [i think you were a fan of the same ones i have to see it]\n",
      "q : [an open invite for someone to walk on my back]; a : [looks like this is amazing]\n",
      "q : [yay someone is gonna add me to their club in league and the tag is unk i love god]; a : [this is my favorite tweet]\n",
      "q : [a6 i am addicted to unk unk]; a : [omg i know i was just thinking about this]\n",
      "q : [nyc resident summer unk unk keeps over 500 plants alive inside of her brooklyn apartment]; a : [this is the best thing ive ever seen]\n",
      "q : [morgan shes only in season 2 let her keep some hope]; a : [she was so cute and she was talking about her]\n",
      "q : [you know who didnt survive unk the more than 100000 victims of the iraq war]; a : [no he is a lot of people who have a lot of people]\n",
      "q : [photos from sep 25th ]; a : [a new york coast ]\n",
      "q : [i love you and if you ever need someone to hang w you know where to find me]; a : [we will be able to be able to be able to be in the city]\n",
      "q : [wait whos saying this anyone unk]; a : [what a joke]\n",
      "q : [he has built more than that and he can build america back to its glory]; a : [if he has a chance to be a president to be president if he doesnt]\n",
      "q : [we must have]; a : [dont know what you want]\n",
      "q : [i would also read a larger piece about women in unk this wasnt it it stands in what it is]; a : [so sorry i think its a good idea]\n",
      "q : [we were gonna say  its making us unk a bit do you always eat so good]; a : [it was a great idea]\n",
      "q : [going to host dinner we back yall]; a : [lmao im going to be in the gym ]\n",
      "q : [this is the best part thanks a bunch for making it]; a : [this is a great thing]\n",
      "q : [im reading unk amp some are not awful i cant do bc my fam already survived fascism unk ]; a : [sorry i have no idea what i was referring to]\n",
      "q : [seasons unk down for us]; a : [this is the first time ive seen it in the first time]\n",
      "q : [youre welcome ive applied a credit for the affected time it will reflect in an upcoming statement w]; a : [you have been a fan of the same thing]\n",
      "q : [hey i see you guys do unk cards do you also have unk gift cards available]; a : [i have a feeling to do this]\n",
      "q : [unk is a unk name]; a : [lol i know that]\n",
      "q : [had no idea  as i said this chat is going to be useful for me in all way]; a : [is there a great thing]\n",
      "q : [this unk is a little off too but i cannot unk a percentage ]; a : [omg thats that a thing]\n",
      "q : [your latter will be greater than your former i am pray for you  full recovery]; a : [ i dont know what to do with this]\n",
      "q : [my baby cousin had a blast for her sweet 16 this is one for the books ]; a : [so glad you enjoyed it thank you for sharing this]\n",
      "q : [cavs nba champs unk ufc unk champion indians al central champs]; a : [this is not the worst thing to the united states]\n",
      "q : [side note youll have to come on]; a : [when i get to the gym]\n",
      "q : [i need a track w]; a : [or coffee or cream]\n",
      "q : [it still unk 0 voters]; a : [they dont have to be a fan of the game]\n",
      "q : [so sweet and unk ]; a : [the best of the best]\n",
      "q : [unk playing the unk outside my apartment]; a : [can i get 5 minutes]\n",
      "q : [probably not going to homecoming cause i have no friends]; a : [what happened to me]\n",
      "q : [no i would but all my friends on console so pc would be boring ]; a : [i am like this is a while i can use a new phone]\n",
      "q : [told you you was gone make it brother ]; a : [lmao i dont even know what to do]\n",
      "q : [i get that lol its just sad lmao]; a : [lol i was thinking about that shit lol]\n",
      "q : [im in school too]; a : [its not a good place]\n",
      "q : [do not unk your trash nature embrace it only then can you unk its strength]; a : [the whole time is a good thing to get a good job]\n",
      "q : [what thats hilarious is this the first time hes surprised you with a costume]; a : [i think he was a lot of people who have a lot of his mouth]\n"
     ]
    }
   ],
   "source": [
    "replies = []\n",
    "for ii, oi in zip(input_.T, output):\n",
    "    q = data_utils.decode(sequence=ii, lookup=metadata['idx2w'], separator=' ')\n",
    "    decoded = data_utils.decode(sequence=oi, lookup=metadata['idx2w'], separator=' ').split(' ')\n",
    "    if decoded.count('unk') == 0:\n",
    "        if decoded not in replies:\n",
    "            print('q : [{0}]; a : [{1}]'.format(q, ' '.join(decoded)))\n",
    "            replies.append(decoded)\n"
   ]
  },
  {
   "cell_type": "code",
   "execution_count": 24,
   "metadata": {
    "collapsed": true
   },
   "outputs": [],
   "source": [
    "EN_WHITELIST = '0123456789abcdefghijklmnopqrstuvwxyz '\n",
    "\n",
    "def handleQueryFunc(line):\n",
    "\tline=line.lower()\n",
    "\tline=data.filter_line(line, EN_WHITELIST)\n",
    "\n",
    "\tqtokenized = [line.split(' ')]\n",
    "\tidx_q, idx_a = data.zero_pad(qtokenized, [[]], metadata['w2idx']) \n",
    "\treturn idx_q"
   ]
  },
  {
   "cell_type": "code",
   "execution_count": null,
   "metadata": {
    "collapsed": false
   },
   "outputs": [
    {
     "name": "stdout",
     "output_type": "stream",
     "text": [
      "user :hi\n",
      "***\n",
      " query : hi; \n",
      " reply : hows the weekend\n",
      "user :how is trump\n",
      "***\n",
      " query : how is trump; \n",
      " reply : and trump is a disgrace to the debate\n",
      "user :how did he win\n",
      "***\n",
      " query : how did he win; \n",
      " reply : i dont know what he was doing\n",
      "user :how did trump win\n",
      "***\n",
      " query : how did trump win; \n",
      " reply : and he has a lot of his life\n",
      "user :today's my birthday\n",
      "***\n",
      " query : todays my birthday; \n",
      " reply : happy birthday \n",
      "user :thank you\n",
      "***\n",
      " query : thank you; \n",
      " reply : youre welcome \n"
     ]
    }
   ],
   "source": [
    "while(True):\n",
    "    query = input(\"user :\")\n",
    "    idx_q = handleQueryFunc(query)\n",
    "    #print (idx_q)\n",
    "    output = model.predict(sess, idx_q.T)\n",
    "    #print (output)\n",
    "    q = data_utils.decode(sequence=idx_q[0], lookup=metadata['idx2w'], separator=' ')\n",
    "    decoded = data_utils.decode(sequence=output[0], lookup=metadata['idx2w'], separator=' ').split(' ')\n",
    "    \n",
    "    print('***\\n query : {0}; \\n reply : {1}'.format(q, ' '.join(decoded)))"
   ]
  },
  {
   "cell_type": "code",
   "execution_count": null,
   "metadata": {
    "collapsed": true
   },
   "outputs": [],
   "source": []
  },
  {
   "cell_type": "code",
   "execution_count": null,
   "metadata": {
    "collapsed": true
   },
   "outputs": [],
   "source": []
  },
  {
   "cell_type": "code",
   "execution_count": null,
   "metadata": {
    "collapsed": true
   },
   "outputs": [],
   "source": []
  },
  {
   "cell_type": "code",
   "execution_count": null,
   "metadata": {
    "collapsed": true
   },
   "outputs": [],
   "source": []
  },
  {
   "cell_type": "code",
   "execution_count": null,
   "metadata": {
    "collapsed": true
   },
   "outputs": [],
   "source": []
  }
 ],
 "metadata": {
  "kernelspec": {
   "display_name": "Python 3",
   "language": "python",
   "name": "python3"
  },
  "language_info": {
   "codemirror_mode": {
    "name": "ipython",
    "version": 3
   },
   "file_extension": ".py",
   "mimetype": "text/x-python",
   "name": "python",
   "nbconvert_exporter": "python",
   "pygments_lexer": "ipython3",
   "version": "3.6.0"
  }
 },
 "nbformat": 4,
 "nbformat_minor": 0
}
